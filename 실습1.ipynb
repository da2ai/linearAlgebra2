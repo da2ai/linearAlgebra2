{
  "nbformat": 4,
  "nbformat_minor": 0,
  "metadata": {
    "colab": {
      "provenance": [],
      "mount_file_id": "1Aka48dE5-Qb0zSSd9y_1HVAGX8zxEFpf",
      "authorship_tag": "ABX9TyOZWkMNnuwava4qtj8A0HOg",
      "include_colab_link": true
    },
    "kernelspec": {
      "name": "python3",
      "display_name": "Python 3"
    },
    "language_info": {
      "name": "python"
    }
  },
  "cells": [
    {
      "cell_type": "markdown",
      "metadata": {
        "id": "view-in-github",
        "colab_type": "text"
      },
      "source": [
        "<a href=\"https://colab.research.google.com/github/da2ai/linearAlgebra2/blob/main/%EC%8B%A4%EC%8A%B51.ipynb\" target=\"_parent\"><img src=\"https://colab.research.google.com/assets/colab-badge.svg\" alt=\"Open In Colab\"/></a>"
      ]
    },
    {
      "cell_type": "code",
      "execution_count": 2,
      "metadata": {
        "id": "zPDbWmnoRR7X",
        "colab": {
          "base_uri": "https://localhost:8080/"
        },
        "outputId": "5254e9a3-676f-4353-cc34-47f1d21d6131"
      },
      "outputs": [
        {
          "output_type": "stream",
          "name": "stdout",
          "text": [
            "Hello, world\n",
            "정수: 3, 03, 003, 0003, 00003\n",
            "실수: 256, 256.1, 256.12\n",
            "문자열: [Hello, world]\n"
          ]
        }
      ],
      "source": [
        "print(\"Hello, world\")\n",
        "\n",
        "x=3\n",
        "print(\"정수: %01d, %02d, %03d, %04d, %05d\" % (x,x,x,x,x))\n",
        "\n",
        "x=256.123\n",
        "print(\"실수: %.0f, %.1f, %.2f\" % (x,x,x))\n",
        "\n",
        "x=\"Hello, world\"\n",
        "print(\"문자열: [%s]\" % (x))"
      ]
    }
  ]
}